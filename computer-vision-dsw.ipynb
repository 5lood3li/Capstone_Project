{
 "cells": [
  {
   "cell_type": "code",
   "execution_count": 1,
   "metadata": {},
   "outputs": [],
   "source": [
    "import cv2\n",
    "import numpy as np\n",
    "import pandas as pd\n",
    "import time\n",
    "import sys\n",
    "import os"
   ]
  },
  {
   "cell_type": "code",
   "execution_count": 2,
   "metadata": {},
   "outputs": [],
   "source": [
    "df = pd.read_csv('capstone_project_dataset.csv')"
   ]
  },
  {
   "cell_type": "code",
   "execution_count": 3,
   "metadata": {},
   "outputs": [],
   "source": [
    "CONFIDENCE = 0.5\n",
    "SCORE_THRESHOLD = 0.5\n",
    "IOU_THRESHOLD = 0.5\n",
    "\n",
    "net = cv2.dnn.readNet('/Users/abdullahalsheeha/Downloads/yolo-ds/yolov4_tiny_last.weights', '/Users/abdullahalsheeha/Downloads/yolo-ds/yolov4_tiny.cfg')\n",
    "\n",
    "# classes = []## load the labels\n",
    "# with open(\"/Users/abdullahalsheeha/Downloads/yolo-ds/obj.names\",\"r\") as f:\n",
    "# \tclasses=[line.strip() for line in f.readlines()]\n",
    "\n",
    "# # generating colors for each object for later plotting\n",
    "# layer_names=net.getLayerNames()\n",
    "# output_layers=[layer_names[i[0]-1]for i in net.getUnconnectedOutLayers()]\n",
    "##############################################\n",
    "labels = open(\"/Users/abdullahalsheeha/Downloads/yolo-ds/obj.names\").read().strip().split(\"\\n\")\n",
    "# generating colors for each object for later plotting\n",
    "colors = np.random.randint(0, 255, size=(len(labels), 3), dtype=\"uint8\")\n",
    "\n",
    "# ### Make different color for each rectangle of a detected object\n",
    "# colors=np.random.uniform(0,255,size=(len(classes),3))"
   ]
  },
  {
   "cell_type": "code",
   "execution_count": 4,
   "metadata": {},
   "outputs": [
    {
     "name": "stdout",
     "output_type": "stream",
     "text": [
      "['shawarma house', 'lusin', 'sultan steakhouse riyadh', 'sayadiyah express', 'cafe bateel', 'chicken republic', 'wakame', 'burj al hamam', 'al-saaj al-reefi', 'maestro pizza', 'khayal restaurant', 'sura korean fine dining', 'al baik', 'zafran indian bistro', 'myazu', 'taya restaurant', 'il vero', 'pattis france', 'steak house', 'hamra chicken', 'manoosha alreef', 'queen of india']\n"
     ]
    }
   ],
   "source": [
    "print(labels)"
   ]
  },
  {
   "cell_type": "code",
   "execution_count": 5,
   "metadata": {},
   "outputs": [],
   "source": [
    "df['Resturant Name'] = df['Resturant Name'].str.lower()\n"
   ]
  },
  {
   "cell_type": "code",
   "execution_count": 6,
   "metadata": {},
   "outputs": [
    {
     "name": "stderr",
     "output_type": "stream",
     "text": [
      "/Users/abdullahalsheeha/opt/anaconda3/lib/python3.7/site-packages/ipykernel_launcher.py:2: SettingWithCopyWarning: \n",
      "A value is trying to be set on a copy of a slice from a DataFrame\n",
      "\n",
      "See the caveats in the documentation: https://pandas.pydata.org/pandas-docs/stable/user_guide/indexing.html#returning-a-view-versus-a-copy\n",
      "  \n",
      "/Users/abdullahalsheeha/opt/anaconda3/lib/python3.7/site-packages/ipykernel_launcher.py:3: SettingWithCopyWarning: \n",
      "A value is trying to be set on a copy of a slice from a DataFrame\n",
      "\n",
      "See the caveats in the documentation: https://pandas.pydata.org/pandas-docs/stable/user_guide/indexing.html#returning-a-view-versus-a-copy\n",
      "  This is separate from the ipykernel package so we can avoid doing imports until\n"
     ]
    }
   ],
   "source": [
    "for i in range(len(df)):\n",
    "    df['Categories'][i] = df['Categories'][i].replace(',', '\\n')\n",
    "    df['Special Diets'][i] = df['Special Diets'][i].replace(',', '\\n')"
   ]
  },
  {
   "cell_type": "code",
   "execution_count": 7,
   "metadata": {},
   "outputs": [
    {
     "data": {
      "text/html": [
       "<div>\n",
       "<style scoped>\n",
       "    .dataframe tbody tr th:only-of-type {\n",
       "        vertical-align: middle;\n",
       "    }\n",
       "\n",
       "    .dataframe tbody tr th {\n",
       "        vertical-align: top;\n",
       "    }\n",
       "\n",
       "    .dataframe thead th {\n",
       "        text-align: right;\n",
       "    }\n",
       "</style>\n",
       "<table border=\"1\" class=\"dataframe\">\n",
       "  <thead>\n",
       "    <tr style=\"text-align: right;\">\n",
       "      <th></th>\n",
       "      <th>Unnamed: 0</th>\n",
       "      <th>User ID</th>\n",
       "      <th>City</th>\n",
       "      <th>User Longitude</th>\n",
       "      <th>User Latitude</th>\n",
       "      <th>Resturant Name</th>\n",
       "      <th>Resturant Longitude</th>\n",
       "      <th>Resturant Latitude</th>\n",
       "      <th>Categories</th>\n",
       "      <th>Special Diets</th>\n",
       "      <th>Review Score</th>\n",
       "      <th>Comments</th>\n",
       "    </tr>\n",
       "  </thead>\n",
       "  <tbody>\n",
       "    <tr>\n",
       "      <th>0</th>\n",
       "      <td>0</td>\n",
       "      <td>317</td>\n",
       "      <td>Jeddah</td>\n",
       "      <td>39.218564</td>\n",
       "      <td>21.736983</td>\n",
       "      <td>al-saaj al-reefi</td>\n",
       "      <td>39.137253</td>\n",
       "      <td>21.621797</td>\n",
       "      <td>Fast Food\\n Middle Eastern\\n Lebanese\\n Medite...</td>\n",
       "      <td>Non</td>\n",
       "      <td>4.0</td>\n",
       "      <td>Wow... Loved this place</td>\n",
       "    </tr>\n",
       "    <tr>\n",
       "      <th>1</th>\n",
       "      <td>1</td>\n",
       "      <td>415</td>\n",
       "      <td>Riyadh</td>\n",
       "      <td>46.937884</td>\n",
       "      <td>24.551856</td>\n",
       "      <td>lusin</td>\n",
       "      <td>46.683451</td>\n",
       "      <td>24.697821</td>\n",
       "      <td>Mediterranean\\n Middle Eastern\\n Armenian</td>\n",
       "      <td>Vegetarian Friendly\\n Vegan Options\\n Gluten F...</td>\n",
       "      <td>4.6</td>\n",
       "      <td>Crust is not good.</td>\n",
       "    </tr>\n",
       "    <tr>\n",
       "      <th>2</th>\n",
       "      <td>2</td>\n",
       "      <td>425</td>\n",
       "      <td>Riyadh</td>\n",
       "      <td>46.501978</td>\n",
       "      <td>24.699156</td>\n",
       "      <td>la brasserie</td>\n",
       "      <td>46.684105</td>\n",
       "      <td>24.690431</td>\n",
       "      <td>French\\n International</td>\n",
       "      <td>Vegetarian Friendly\\n Vegan Options</td>\n",
       "      <td>2.7</td>\n",
       "      <td>Not tasty and the texture was just nasty.</td>\n",
       "    </tr>\n",
       "    <tr>\n",
       "      <th>3</th>\n",
       "      <td>3</td>\n",
       "      <td>456</td>\n",
       "      <td>Eastern Province</td>\n",
       "      <td>52.528577</td>\n",
       "      <td>26.575229</td>\n",
       "      <td>manoosha alreef</td>\n",
       "      <td>50.118295</td>\n",
       "      <td>26.445350</td>\n",
       "      <td>Lebanese\\n Fast Food\\n Mediterranean\\n Middle ...</td>\n",
       "      <td>Vegetarian Friendly\\n Vegan Options</td>\n",
       "      <td>4.7</td>\n",
       "      <td>Stopped by during the late May bank holiday of...</td>\n",
       "    </tr>\n",
       "    <tr>\n",
       "      <th>4</th>\n",
       "      <td>4</td>\n",
       "      <td>420</td>\n",
       "      <td>Eastern Province</td>\n",
       "      <td>53.446234</td>\n",
       "      <td>26.122919</td>\n",
       "      <td>queen of india</td>\n",
       "      <td>50.179829</td>\n",
       "      <td>26.328298</td>\n",
       "      <td>Indian</td>\n",
       "      <td>Vegetarian Friendly\\n Vegan Options\\n Gluten F...</td>\n",
       "      <td>4.9</td>\n",
       "      <td>The selection on the menu was great and so wer...</td>\n",
       "    </tr>\n",
       "    <tr>\n",
       "      <th>...</th>\n",
       "      <td>...</td>\n",
       "      <td>...</td>\n",
       "      <td>...</td>\n",
       "      <td>...</td>\n",
       "      <td>...</td>\n",
       "      <td>...</td>\n",
       "      <td>...</td>\n",
       "      <td>...</td>\n",
       "      <td>...</td>\n",
       "      <td>...</td>\n",
       "      <td>...</td>\n",
       "      <td>...</td>\n",
       "    </tr>\n",
       "    <tr>\n",
       "      <th>995</th>\n",
       "      <td>995</td>\n",
       "      <td>166</td>\n",
       "      <td>Jeddah</td>\n",
       "      <td>39.304262</td>\n",
       "      <td>21.655744</td>\n",
       "      <td>aromi</td>\n",
       "      <td>39.109269</td>\n",
       "      <td>21.603596</td>\n",
       "      <td>Italian\\n Mediterranean\\n European</td>\n",
       "      <td>Vegetarian Friendly\\n Vegan Options\\n Gluten F...</td>\n",
       "      <td>2.8</td>\n",
       "      <td>I can't tell you how disappointed I was.</td>\n",
       "    </tr>\n",
       "    <tr>\n",
       "      <th>996</th>\n",
       "      <td>996</td>\n",
       "      <td>293</td>\n",
       "      <td>Eastern Province</td>\n",
       "      <td>51.736019</td>\n",
       "      <td>21.813979</td>\n",
       "      <td>tandoori house</td>\n",
       "      <td>50.129764</td>\n",
       "      <td>26.303790</td>\n",
       "      <td>Indian</td>\n",
       "      <td>Non</td>\n",
       "      <td>4.6</td>\n",
       "      <td>I think food should have flavor and texture an...</td>\n",
       "    </tr>\n",
       "    <tr>\n",
       "      <th>997</th>\n",
       "      <td>997</td>\n",
       "      <td>247</td>\n",
       "      <td>Eastern Province</td>\n",
       "      <td>55.466600</td>\n",
       "      <td>22.179759</td>\n",
       "      <td>al-sanbok restaurant</td>\n",
       "      <td>50.220734</td>\n",
       "      <td>26.271833</td>\n",
       "      <td>Seafood\\n International\\n Mediterranean</td>\n",
       "      <td>Vegetarian Friendly\\n Vegan Options\\n Gluten F...</td>\n",
       "      <td>4.2</td>\n",
       "      <td>Appetite instantly gone.</td>\n",
       "    </tr>\n",
       "    <tr>\n",
       "      <th>998</th>\n",
       "      <td>998</td>\n",
       "      <td>31</td>\n",
       "      <td>Riyadh</td>\n",
       "      <td>46.847037</td>\n",
       "      <td>24.553088</td>\n",
       "      <td>al orjouan</td>\n",
       "      <td>46.630201</td>\n",
       "      <td>24.665121</td>\n",
       "      <td>Mediterranean\\n Middle Eastern\\n International</td>\n",
       "      <td>Vegetarian Friendly\\n Vegan Options\\n Gluten F...</td>\n",
       "      <td>3.6</td>\n",
       "      <td>Overall I was not impressed and would not go b...</td>\n",
       "    </tr>\n",
       "    <tr>\n",
       "      <th>999</th>\n",
       "      <td>999</td>\n",
       "      <td>456</td>\n",
       "      <td>Riyadh</td>\n",
       "      <td>46.776845</td>\n",
       "      <td>24.806883</td>\n",
       "      <td>cafe bateel</td>\n",
       "      <td>46.629385</td>\n",
       "      <td>24.756379</td>\n",
       "      <td>Cafe\\n Healthy\\n Middle Eastern</td>\n",
       "      <td>Vegetarian Friendly\\n Vegan Options\\n Gluten F...</td>\n",
       "      <td>3.0</td>\n",
       "      <td>Then, as if I hadn't wasted enough of my life ...</td>\n",
       "    </tr>\n",
       "  </tbody>\n",
       "</table>\n",
       "<p>1000 rows × 12 columns</p>\n",
       "</div>"
      ],
      "text/plain": [
       "     Unnamed: 0  User ID              City  User Longitude  User Latitude  \\\n",
       "0             0      317            Jeddah       39.218564      21.736983   \n",
       "1             1      415            Riyadh       46.937884      24.551856   \n",
       "2             2      425            Riyadh       46.501978      24.699156   \n",
       "3             3      456  Eastern Province       52.528577      26.575229   \n",
       "4             4      420  Eastern Province       53.446234      26.122919   \n",
       "..          ...      ...               ...             ...            ...   \n",
       "995         995      166            Jeddah       39.304262      21.655744   \n",
       "996         996      293  Eastern Province       51.736019      21.813979   \n",
       "997         997      247  Eastern Province       55.466600      22.179759   \n",
       "998         998       31            Riyadh       46.847037      24.553088   \n",
       "999         999      456            Riyadh       46.776845      24.806883   \n",
       "\n",
       "           Resturant Name  Resturant Longitude  Resturant Latitude  \\\n",
       "0        al-saaj al-reefi            39.137253           21.621797   \n",
       "1                   lusin            46.683451           24.697821   \n",
       "2            la brasserie            46.684105           24.690431   \n",
       "3         manoosha alreef            50.118295           26.445350   \n",
       "4          queen of india            50.179829           26.328298   \n",
       "..                    ...                  ...                 ...   \n",
       "995                 aromi            39.109269           21.603596   \n",
       "996        tandoori house            50.129764           26.303790   \n",
       "997  al-sanbok restaurant            50.220734           26.271833   \n",
       "998            al orjouan            46.630201           24.665121   \n",
       "999           cafe bateel            46.629385           24.756379   \n",
       "\n",
       "                                            Categories  \\\n",
       "0    Fast Food\\n Middle Eastern\\n Lebanese\\n Medite...   \n",
       "1            Mediterranean\\n Middle Eastern\\n Armenian   \n",
       "2                               French\\n International   \n",
       "3    Lebanese\\n Fast Food\\n Mediterranean\\n Middle ...   \n",
       "4                                               Indian   \n",
       "..                                                 ...   \n",
       "995                 Italian\\n Mediterranean\\n European   \n",
       "996                                             Indian   \n",
       "997            Seafood\\n International\\n Mediterranean   \n",
       "998     Mediterranean\\n Middle Eastern\\n International   \n",
       "999                    Cafe\\n Healthy\\n Middle Eastern   \n",
       "\n",
       "                                         Special Diets  Review Score  \\\n",
       "0                                                  Non           4.0   \n",
       "1    Vegetarian Friendly\\n Vegan Options\\n Gluten F...           4.6   \n",
       "2                  Vegetarian Friendly\\n Vegan Options           2.7   \n",
       "3                  Vegetarian Friendly\\n Vegan Options           4.7   \n",
       "4    Vegetarian Friendly\\n Vegan Options\\n Gluten F...           4.9   \n",
       "..                                                 ...           ...   \n",
       "995  Vegetarian Friendly\\n Vegan Options\\n Gluten F...           2.8   \n",
       "996                                                Non           4.6   \n",
       "997  Vegetarian Friendly\\n Vegan Options\\n Gluten F...           4.2   \n",
       "998  Vegetarian Friendly\\n Vegan Options\\n Gluten F...           3.6   \n",
       "999  Vegetarian Friendly\\n Vegan Options\\n Gluten F...           3.0   \n",
       "\n",
       "                                              Comments  \n",
       "0                              Wow... Loved this place  \n",
       "1                                   Crust is not good.  \n",
       "2            Not tasty and the texture was just nasty.  \n",
       "3    Stopped by during the late May bank holiday of...  \n",
       "4    The selection on the menu was great and so wer...  \n",
       "..                                                 ...  \n",
       "995           I can't tell you how disappointed I was.  \n",
       "996  I think food should have flavor and texture an...  \n",
       "997                           Appetite instantly gone.  \n",
       "998  Overall I was not impressed and would not go b...  \n",
       "999  Then, as if I hadn't wasted enough of my life ...  \n",
       "\n",
       "[1000 rows x 12 columns]"
      ]
     },
     "execution_count": 7,
     "metadata": {},
     "output_type": "execute_result"
    }
   ],
   "source": [
    "df"
   ]
  },
  {
   "cell_type": "code",
   "execution_count": 8,
   "metadata": {},
   "outputs": [],
   "source": [
    "df.drop('Unnamed: 0', axis=1, inplace=True)"
   ]
  },
  {
   "cell_type": "code",
   "execution_count": 9,
   "metadata": {},
   "outputs": [
    {
     "data": {
      "text/plain": [
       "array(['al-saaj al-reefi', 'lusin', 'la brasserie', 'manoosha alreef',\n",
       "       'queen of india', 'al bustan restaurant', 'zafran indian bistro',\n",
       "       'maestro pizza', 'khayal restaurant', 'sura korean fine dining',\n",
       "       'byblos restaurant', 'il vero', 'pattis france', 'lotus',\n",
       "       'shawarma house', 'hamra chicken', 'aromi', 'tokyo',\n",
       "       'sayadiyah express', 'tandoori house', 'taya restaurant',\n",
       "       'the blue restaurant', 'burj al hamam', 'wakame', 'al baik',\n",
       "       'al orjouan', 'sultan steakhouse riyadh', 'steak house',\n",
       "       'cafe bateel', 'ginger leaf', 'abu nawas', 'chicken republic',\n",
       "       'myazu', 'al-sanbok restaurant'], dtype=object)"
      ]
     },
     "execution_count": 9,
     "metadata": {},
     "output_type": "execute_result"
    }
   ],
   "source": [
    "df['Resturant Name'].unique()"
   ]
  },
  {
   "cell_type": "code",
   "execution_count": 10,
   "metadata": {},
   "outputs": [],
   "source": [
    "df2 = {}\n",
    "\n",
    "for i in labels:\n",
    "    #print([i, round(df[df['Resturant Name'] == i]['Review Score'].mean(), 2), df[df['Resturant Name'] == i].iloc[0]['Categories'], df[df['Resturant Name'] == i].iloc[0]['Special Diets']])\n",
    "    df2[i] = [round(df[df['Resturant Name'] == i]['Review Score'].mean(), 1), df[df['Resturant Name'] == i].iloc[0]['Categories'], df[df['Resturant Name'] == i].iloc[0]['Special Diets']]"
   ]
  },
  {
   "cell_type": "code",
   "execution_count": null,
   "metadata": {},
   "outputs": [],
   "source": []
  },
  {
   "cell_type": "code",
   "execution_count": 11,
   "metadata": {},
   "outputs": [],
   "source": [
    "path_name = \"obj 2/2.jpg\"\n",
    "image = cv2.imread(path_name)\n",
    "file_name = os.path.basename(path_name)\n",
    "filename, ext = file_name.split(\".\")"
   ]
  },
  {
   "cell_type": "code",
   "execution_count": 12,
   "metadata": {},
   "outputs": [],
   "source": [
    "h, w = image.shape[:2]\n",
    "# create 4D blob\n",
    "blob = cv2.dnn.blobFromImage(image, 1/255.0, (416, 416), swapRB=True, crop=False)"
   ]
  },
  {
   "cell_type": "code",
   "execution_count": 13,
   "metadata": {},
   "outputs": [
    {
     "name": "stdout",
     "output_type": "stream",
     "text": [
      "Time took: 0.06s\n"
     ]
    }
   ],
   "source": [
    "# sets the blob as the input of the network\n",
    "net.setInput(blob)\n",
    "# get all the layer names\n",
    "ln = net.getLayerNames()\n",
    "ln = [ln[i[0] - 1] for i in net.getUnconnectedOutLayers()]\n",
    "# feed forward (inference) and get the network output\n",
    "# measure how much it took in seconds\n",
    "start = time.perf_counter()\n",
    "layer_outputs = net.forward(ln)\n",
    "time_took = time.perf_counter() - start\n",
    "print(f\"Time took: {time_took:.2f}s\")"
   ]
  },
  {
   "cell_type": "code",
   "execution_count": 14,
   "metadata": {},
   "outputs": [],
   "source": [
    "font_scale = 1\n",
    "thickness = 1\n",
    "boxes, confidences, class_ids = [], [], []\n",
    "# loop over each of the layer outputs\n",
    "for output in layer_outputs:\n",
    "    # loop over each of the object detections\n",
    "    for detection in output:\n",
    "        # extract the class id (label) and confidence (as a probability) of\n",
    "        # the current object detection\n",
    "        scores = detection[5:]\n",
    "        class_id = np.argmax(scores)\n",
    "        confidence = scores[class_id]\n",
    "        # discard out weak predictions by ensuring the detected\n",
    "        # probability is greater than the minimum probability\n",
    "        if confidence > CONFIDENCE:\n",
    "            # scale the bounding box coordinates back relative to the\n",
    "            # size of the image, keeping in mind that YOLO actually\n",
    "            # returns the center (x, y)-coordinates of the bounding\n",
    "            # box followed by the boxes' width and height\n",
    "            box = detection[:4] * np.array([w, h, w, h])\n",
    "            (centerX, centerY, width, height) = box.astype(\"int\")\n",
    "            # use the center (x, y)-coordinates to derive the top and\n",
    "            # and left corner of the bounding box\n",
    "            x = int(centerX - (width / 2))\n",
    "            y = int(centerY - (height / 2))\n",
    "            # update our list of bounding box coordinates, confidences,\n",
    "            # and class IDs\n",
    "            boxes.append([x, y, int(width), int(height)])\n",
    "            confidences.append(float(confidence))\n",
    "            class_ids.append(class_id)"
   ]
  },
  {
   "cell_type": "code",
   "execution_count": 15,
   "metadata": {},
   "outputs": [],
   "source": [
    "idxs = cv2.dnn.NMSBoxes(boxes, confidences, SCORE_THRESHOLD, IOU_THRESHOLD)"
   ]
  },
  {
   "cell_type": "code",
   "execution_count": 16,
   "metadata": {},
   "outputs": [
    {
     "name": "stdout",
     "output_type": "stream",
     "text": [
      "[4.1, 'Chinese\\n Indian\\n Seafood\\n Grill\\n Arabic\\n Barbecue', 'Non']\n"
     ]
    }
   ],
   "source": [
    "# ensure at least one detection exists\n",
    "if len(idxs) > 0:\n",
    "    # loop over the indexes we are keeping\n",
    "    for i in idxs.flatten():\n",
    "        # extract the bounding box coordinates\n",
    "        x, y = boxes[i][0], boxes[i][1]\n",
    "        w, h = boxes[i][2], boxes[i][3]\n",
    "        # draw a bounding box rectangle and label on the image\n",
    "        color = [int(c) for c in colors[class_ids[i]]]\n",
    "        cv2.rectangle(image, (x, y), (x + w, y + h), color=color, thickness=thickness)\n",
    "        text = f\"{labels[class_ids[i]]}\" \n",
    "        text1 = f\"rating: {df2[labels[class_ids[i]]][0]}\"\n",
    "        text2 = f\"Categories: {df2[labels[class_ids[i]]][1]}\"\n",
    "        text3 = f\"Special Diets: {df2[labels[class_ids[i]]][2]}\"\n",
    "        print(df2[labels[class_ids[i]]])\n",
    "        # calculate text width & height to draw the transparent boxes as background of the text\n",
    "        (text_width, text_height) = cv2.getTextSize(text, cv2.FONT_HERSHEY_SIMPLEX, fontScale=font_scale, thickness=thickness)[0]\n",
    "        text_offset_x = x -50\n",
    "        text_offset_y = y + 40\n",
    "        box_coords = ((text_offset_x, text_offset_y), (text_offset_x + text_width + 250, text_offset_y + text_height+100))\n",
    "        overlay = image.copy()\n",
    "        cv2.rectangle(overlay, box_coords[0], box_coords[1], color=color, thickness=cv2.FILLED)\n",
    "       \n",
    "        \n",
    "        # add opacity (transparency to the box)\n",
    "        image = cv2.addWeighted(overlay, 0.6, image, 0.4, 0)\n",
    "        # now put the text (label: confidence %)\n",
    "        cv2.putText(image, text, (x-50, y + 60), cv2.FONT_HERSHEY_SIMPLEX,\n",
    "            fontScale=0.7, color=(0, 0, 0), thickness=thickness, lineType = cv2.LINE_AA)\n",
    "        cv2.putText(image, text1, (x-50 , y+80), cv2.FONT_HERSHEY_SIMPLEX,\n",
    "            fontScale=0.35, color=(0, 0, 0), thickness=thickness, lineType = cv2.LINE_AA)\n",
    "        y2, dy = y+93, 12\n",
    "        for i, line1 in enumerate(text3.split('\\n')):\n",
    "            y3 = y2 + i*dy    \n",
    "            cv2.putText(image, line1, (x-50 , y3), cv2.FONT_HERSHEY_SIMPLEX,\n",
    "                fontScale=0.35, color=(0, 0, 0), thickness=thickness, lineType = cv2.LINE_AA)\n",
    "        y0, dy = y+130, 12\n",
    "        for i, line in enumerate(text2.split('\\n')):\n",
    "            y1 = y0 + i*dy\n",
    "            #cv2.putText(image, line, (x-120 , y+80), cv2.FONT_HERSHEY_SIMPLEX, 1, 2)\n",
    "            cv2.putText(image, line, (x-50, y1), cv2.FONT_HERSHEY_SIMPLEX,\n",
    "                fontScale=0.35, color=(0, 0, 0), thickness=thickness, lineType = cv2.LINE_AA)\n",
    "        \n",
    "        "
   ]
  },
  {
   "cell_type": "code",
   "execution_count": 17,
   "metadata": {},
   "outputs": [
    {
     "data": {
      "text/plain": [
       "True"
      ]
     },
     "execution_count": 17,
     "metadata": {},
     "output_type": "execute_result"
    }
   ],
   "source": [
    "# cv2.imshow('x',image)\n",
    "cv2.imwrite(filename + \"_yolo4.\" + ext, image)"
   ]
  },
  {
   "cell_type": "code",
   "execution_count": null,
   "metadata": {},
   "outputs": [],
   "source": []
  }
 ],
 "metadata": {
  "kernelspec": {
   "display_name": "keras",
   "language": "python",
   "name": "keras"
  },
  "language_info": {
   "codemirror_mode": {
    "name": "ipython",
    "version": 3
   },
   "file_extension": ".py",
   "mimetype": "text/x-python",
   "name": "python",
   "nbconvert_exporter": "python",
   "pygments_lexer": "ipython3",
   "version": "3.7.4"
  }
 },
 "nbformat": 4,
 "nbformat_minor": 2
}
