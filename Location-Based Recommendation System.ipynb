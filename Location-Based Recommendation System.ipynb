{
 "cells": [
  {
   "cell_type": "code",
   "execution_count": 1,
   "metadata": {},
   "outputs": [],
   "source": [
    "#imports\n",
    "import numpy as np\n",
    "import random\n",
    "import matplotlib.pyplot as plt\n",
    "import pandas as pd\n",
    "import seaborn as sns\n",
    "\n",
    "# Importing sklearn Packages\n",
    "\n",
    "from sklearn.neighbors import NearestNeighbors\n",
    "#from sklearn.preprocessing import StandardScaler\n",
    "#from sklearn.metrics import mean_squared_error, mean_absolute_error, accuracy_score, recall_score, precision_score\n",
    "#from sklearn.metrics import plot_confusion_matrix\n",
    "#from sklearn.metrics import confusion_matrix"
   ]
  },
  {
   "cell_type": "code",
   "execution_count": 2,
   "metadata": {},
   "outputs": [],
   "source": [
    "df=pd.read_csv(\"capstone_project_dataset.csv\")"
   ]
  },
  {
   "cell_type": "code",
   "execution_count": 3,
   "metadata": {},
   "outputs": [
    {
     "data": {
      "text/html": [
       "<div>\n",
       "<style scoped>\n",
       "    .dataframe tbody tr th:only-of-type {\n",
       "        vertical-align: middle;\n",
       "    }\n",
       "\n",
       "    .dataframe tbody tr th {\n",
       "        vertical-align: top;\n",
       "    }\n",
       "\n",
       "    .dataframe thead th {\n",
       "        text-align: right;\n",
       "    }\n",
       "</style>\n",
       "<table border=\"1\" class=\"dataframe\">\n",
       "  <thead>\n",
       "    <tr style=\"text-align: right;\">\n",
       "      <th></th>\n",
       "      <th>Unnamed: 0</th>\n",
       "      <th>User ID</th>\n",
       "      <th>City</th>\n",
       "      <th>User Longitude</th>\n",
       "      <th>User Latitude</th>\n",
       "      <th>Resturant Name</th>\n",
       "      <th>Resturant Longitude</th>\n",
       "      <th>Resturant Latitude</th>\n",
       "      <th>Categories</th>\n",
       "      <th>Special Diets</th>\n",
       "      <th>Review Score</th>\n",
       "      <th>Comments</th>\n",
       "    </tr>\n",
       "  </thead>\n",
       "  <tbody>\n",
       "    <tr>\n",
       "      <th>0</th>\n",
       "      <td>0</td>\n",
       "      <td>317</td>\n",
       "      <td>Jeddah</td>\n",
       "      <td>39.218564</td>\n",
       "      <td>21.736983</td>\n",
       "      <td>Al-Saaj Al-Reefi</td>\n",
       "      <td>39.137253</td>\n",
       "      <td>21.621797</td>\n",
       "      <td>Fast Food, Middle Eastern, Lebanese, Mediterra...</td>\n",
       "      <td>Non</td>\n",
       "      <td>4.0</td>\n",
       "      <td>Wow... Loved this place</td>\n",
       "    </tr>\n",
       "    <tr>\n",
       "      <th>1</th>\n",
       "      <td>1</td>\n",
       "      <td>415</td>\n",
       "      <td>Riyadh</td>\n",
       "      <td>46.937884</td>\n",
       "      <td>24.551856</td>\n",
       "      <td>Lusin</td>\n",
       "      <td>46.683451</td>\n",
       "      <td>24.697821</td>\n",
       "      <td>Mediterranean, Middle Eastern, Armenian</td>\n",
       "      <td>Vegetarian Friendly, Vegan Options, Gluten Fre...</td>\n",
       "      <td>4.6</td>\n",
       "      <td>Crust is not good.</td>\n",
       "    </tr>\n",
       "    <tr>\n",
       "      <th>2</th>\n",
       "      <td>2</td>\n",
       "      <td>425</td>\n",
       "      <td>Riyadh</td>\n",
       "      <td>46.501978</td>\n",
       "      <td>24.699156</td>\n",
       "      <td>La Brasserie</td>\n",
       "      <td>46.684105</td>\n",
       "      <td>24.690431</td>\n",
       "      <td>French, International</td>\n",
       "      <td>Vegetarian Friendly, Vegan Options</td>\n",
       "      <td>2.7</td>\n",
       "      <td>Not tasty and the texture was just nasty.</td>\n",
       "    </tr>\n",
       "    <tr>\n",
       "      <th>3</th>\n",
       "      <td>3</td>\n",
       "      <td>456</td>\n",
       "      <td>Eastern Province</td>\n",
       "      <td>52.528577</td>\n",
       "      <td>26.575229</td>\n",
       "      <td>Manoosha Alreef</td>\n",
       "      <td>50.118295</td>\n",
       "      <td>26.445350</td>\n",
       "      <td>Lebanese, Fast Food, Mediterranean, Middle Eas...</td>\n",
       "      <td>Vegetarian Friendly, Vegan Options</td>\n",
       "      <td>4.7</td>\n",
       "      <td>Stopped by during the late May bank holiday of...</td>\n",
       "    </tr>\n",
       "    <tr>\n",
       "      <th>4</th>\n",
       "      <td>4</td>\n",
       "      <td>420</td>\n",
       "      <td>Eastern Province</td>\n",
       "      <td>53.446234</td>\n",
       "      <td>26.122919</td>\n",
       "      <td>Queen Of India</td>\n",
       "      <td>50.179829</td>\n",
       "      <td>26.328298</td>\n",
       "      <td>Indian</td>\n",
       "      <td>Vegetarian Friendly, Vegan Options, Gluten Fre...</td>\n",
       "      <td>4.9</td>\n",
       "      <td>The selection on the menu was great and so wer...</td>\n",
       "    </tr>\n",
       "    <tr>\n",
       "      <th>...</th>\n",
       "      <td>...</td>\n",
       "      <td>...</td>\n",
       "      <td>...</td>\n",
       "      <td>...</td>\n",
       "      <td>...</td>\n",
       "      <td>...</td>\n",
       "      <td>...</td>\n",
       "      <td>...</td>\n",
       "      <td>...</td>\n",
       "      <td>...</td>\n",
       "      <td>...</td>\n",
       "      <td>...</td>\n",
       "    </tr>\n",
       "    <tr>\n",
       "      <th>995</th>\n",
       "      <td>995</td>\n",
       "      <td>166</td>\n",
       "      <td>Jeddah</td>\n",
       "      <td>39.304262</td>\n",
       "      <td>21.655744</td>\n",
       "      <td>Aromi</td>\n",
       "      <td>39.109269</td>\n",
       "      <td>21.603596</td>\n",
       "      <td>Italian, Mediterranean, European</td>\n",
       "      <td>Vegetarian Friendly, Vegan Options, Gluten Fre...</td>\n",
       "      <td>2.8</td>\n",
       "      <td>I can't tell you how disappointed I was.</td>\n",
       "    </tr>\n",
       "    <tr>\n",
       "      <th>996</th>\n",
       "      <td>996</td>\n",
       "      <td>293</td>\n",
       "      <td>Eastern Province</td>\n",
       "      <td>51.736019</td>\n",
       "      <td>21.813979</td>\n",
       "      <td>Tandoori House</td>\n",
       "      <td>50.129764</td>\n",
       "      <td>26.303790</td>\n",
       "      <td>Indian</td>\n",
       "      <td>Non</td>\n",
       "      <td>4.6</td>\n",
       "      <td>I think food should have flavor and texture an...</td>\n",
       "    </tr>\n",
       "    <tr>\n",
       "      <th>997</th>\n",
       "      <td>997</td>\n",
       "      <td>247</td>\n",
       "      <td>Eastern Province</td>\n",
       "      <td>55.466600</td>\n",
       "      <td>22.179759</td>\n",
       "      <td>Al-Sanbok Restaurant</td>\n",
       "      <td>50.220734</td>\n",
       "      <td>26.271833</td>\n",
       "      <td>Seafood, International, Mediterranean</td>\n",
       "      <td>Vegetarian Friendly, Vegan Options, Gluten Fre...</td>\n",
       "      <td>4.2</td>\n",
       "      <td>Appetite instantly gone.</td>\n",
       "    </tr>\n",
       "    <tr>\n",
       "      <th>998</th>\n",
       "      <td>998</td>\n",
       "      <td>31</td>\n",
       "      <td>Riyadh</td>\n",
       "      <td>46.847037</td>\n",
       "      <td>24.553088</td>\n",
       "      <td>Al Orjouan</td>\n",
       "      <td>46.630201</td>\n",
       "      <td>24.665121</td>\n",
       "      <td>Mediterranean, Middle Eastern, International</td>\n",
       "      <td>Vegetarian Friendly, Vegan Options, Gluten Fre...</td>\n",
       "      <td>3.6</td>\n",
       "      <td>Overall I was not impressed and would not go b...</td>\n",
       "    </tr>\n",
       "    <tr>\n",
       "      <th>999</th>\n",
       "      <td>999</td>\n",
       "      <td>456</td>\n",
       "      <td>Riyadh</td>\n",
       "      <td>46.776845</td>\n",
       "      <td>24.806883</td>\n",
       "      <td>Cafe Bateel</td>\n",
       "      <td>46.629385</td>\n",
       "      <td>24.756379</td>\n",
       "      <td>Cafe, Healthy, Middle Eastern</td>\n",
       "      <td>Vegetarian Friendly, Vegan Options, Gluten Fre...</td>\n",
       "      <td>3.0</td>\n",
       "      <td>Then, as if I hadn't wasted enough of my life ...</td>\n",
       "    </tr>\n",
       "  </tbody>\n",
       "</table>\n",
       "<p>1000 rows × 12 columns</p>\n",
       "</div>"
      ],
      "text/plain": [
       "     Unnamed: 0  User ID              City  User Longitude  User Latitude  \\\n",
       "0             0      317            Jeddah       39.218564      21.736983   \n",
       "1             1      415            Riyadh       46.937884      24.551856   \n",
       "2             2      425            Riyadh       46.501978      24.699156   \n",
       "3             3      456  Eastern Province       52.528577      26.575229   \n",
       "4             4      420  Eastern Province       53.446234      26.122919   \n",
       "..          ...      ...               ...             ...            ...   \n",
       "995         995      166            Jeddah       39.304262      21.655744   \n",
       "996         996      293  Eastern Province       51.736019      21.813979   \n",
       "997         997      247  Eastern Province       55.466600      22.179759   \n",
       "998         998       31            Riyadh       46.847037      24.553088   \n",
       "999         999      456            Riyadh       46.776845      24.806883   \n",
       "\n",
       "           Resturant Name  Resturant Longitude  Resturant Latitude  \\\n",
       "0        Al-Saaj Al-Reefi            39.137253           21.621797   \n",
       "1                   Lusin            46.683451           24.697821   \n",
       "2            La Brasserie            46.684105           24.690431   \n",
       "3         Manoosha Alreef            50.118295           26.445350   \n",
       "4          Queen Of India            50.179829           26.328298   \n",
       "..                    ...                  ...                 ...   \n",
       "995                 Aromi            39.109269           21.603596   \n",
       "996        Tandoori House            50.129764           26.303790   \n",
       "997  Al-Sanbok Restaurant            50.220734           26.271833   \n",
       "998            Al Orjouan            46.630201           24.665121   \n",
       "999           Cafe Bateel            46.629385           24.756379   \n",
       "\n",
       "                                            Categories  \\\n",
       "0    Fast Food, Middle Eastern, Lebanese, Mediterra...   \n",
       "1              Mediterranean, Middle Eastern, Armenian   \n",
       "2                                French, International   \n",
       "3    Lebanese, Fast Food, Mediterranean, Middle Eas...   \n",
       "4                                               Indian   \n",
       "..                                                 ...   \n",
       "995                   Italian, Mediterranean, European   \n",
       "996                                             Indian   \n",
       "997              Seafood, International, Mediterranean   \n",
       "998       Mediterranean, Middle Eastern, International   \n",
       "999                      Cafe, Healthy, Middle Eastern   \n",
       "\n",
       "                                         Special Diets  Review Score  \\\n",
       "0                                                  Non           4.0   \n",
       "1    Vegetarian Friendly, Vegan Options, Gluten Fre...           4.6   \n",
       "2                   Vegetarian Friendly, Vegan Options           2.7   \n",
       "3                   Vegetarian Friendly, Vegan Options           4.7   \n",
       "4    Vegetarian Friendly, Vegan Options, Gluten Fre...           4.9   \n",
       "..                                                 ...           ...   \n",
       "995  Vegetarian Friendly, Vegan Options, Gluten Fre...           2.8   \n",
       "996                                                Non           4.6   \n",
       "997  Vegetarian Friendly, Vegan Options, Gluten Fre...           4.2   \n",
       "998  Vegetarian Friendly, Vegan Options, Gluten Fre...           3.6   \n",
       "999  Vegetarian Friendly, Vegan Options, Gluten Fre...           3.0   \n",
       "\n",
       "                                              Comments  \n",
       "0                              Wow... Loved this place  \n",
       "1                                   Crust is not good.  \n",
       "2            Not tasty and the texture was just nasty.  \n",
       "3    Stopped by during the late May bank holiday of...  \n",
       "4    The selection on the menu was great and so wer...  \n",
       "..                                                 ...  \n",
       "995           I can't tell you how disappointed I was.  \n",
       "996  I think food should have flavor and texture an...  \n",
       "997                           Appetite instantly gone.  \n",
       "998  Overall I was not impressed and would not go b...  \n",
       "999  Then, as if I hadn't wasted enough of my life ...  \n",
       "\n",
       "[1000 rows x 12 columns]"
      ]
     },
     "execution_count": 3,
     "metadata": {},
     "output_type": "execute_result"
    }
   ],
   "source": [
    "df"
   ]
  },
  {
   "cell_type": "code",
   "execution_count": 4,
   "metadata": {},
   "outputs": [
    {
     "name": "stdout",
     "output_type": "stream",
     "text": [
      "<class 'pandas.core.frame.DataFrame'>\n",
      "RangeIndex: 1000 entries, 0 to 999\n",
      "Data columns (total 12 columns):\n",
      " #   Column               Non-Null Count  Dtype  \n",
      "---  ------               --------------  -----  \n",
      " 0   Unnamed: 0           1000 non-null   int64  \n",
      " 1   User ID              1000 non-null   int64  \n",
      " 2   City                 1000 non-null   object \n",
      " 3   User Longitude       1000 non-null   float64\n",
      " 4   User Latitude        1000 non-null   float64\n",
      " 5   Resturant Name       1000 non-null   object \n",
      " 6   Resturant Longitude  1000 non-null   float64\n",
      " 7   Resturant Latitude   1000 non-null   float64\n",
      " 8   Categories           1000 non-null   object \n",
      " 9   Special Diets        1000 non-null   object \n",
      " 10  Review Score         1000 non-null   float64\n",
      " 11  Comments             1000 non-null   object \n",
      "dtypes: float64(5), int64(2), object(5)\n",
      "memory usage: 93.9+ KB\n"
     ]
    }
   ],
   "source": [
    "df.info()"
   ]
  },
  {
   "cell_type": "code",
   "execution_count": 5,
   "metadata": {},
   "outputs": [
    {
     "data": {
      "text/plain": [
       "NearestNeighbors(n_neighbors=4)"
      ]
     },
     "execution_count": 5,
     "metadata": {},
     "output_type": "execute_result"
    }
   ],
   "source": [
    "model1 = NearestNeighbors(n_neighbors=4)\n",
    "model1.fit(df[['Resturant Longitude', 'Resturant Latitude']])"
   ]
  },
  {
   "cell_type": "code",
   "execution_count": 6,
   "metadata": {},
   "outputs": [
    {
     "data": {
      "text/plain": [
       "(array([[0.14099421, 0.14099421, 0.14099421, 0.14099421]]),\n",
       " array([[280, 281, 958,   0]], dtype=int64))"
      ]
     },
     "execution_count": 6,
     "metadata": {},
     "output_type": "execute_result"
    }
   ],
   "source": [
    "model1.kneighbors([df.iloc[0, 3:5]], return_distance=True)"
   ]
  },
  {
   "cell_type": "code",
   "execution_count": 10,
   "metadata": {},
   "outputs": [
    {
     "data": {
      "text/plain": [
       "Unnamed: 0                                                           281\n",
       "User ID                                                              238\n",
       "City                                                              Jeddah\n",
       "User Longitude                                                   39.2983\n",
       "User Latitude                                                    21.8659\n",
       "Resturant Name                                          Al-Saaj Al-Reefi\n",
       "Resturant Longitude                                              39.1373\n",
       "Resturant Latitude                                               21.6218\n",
       "Categories             Fast Food, Middle Eastern, Lebanese, Mediterra...\n",
       "Special Diets                                                        Non\n",
       "Review Score                                                         4.2\n",
       "Comments               I would definitely recommend the wings as well...\n",
       "Name: 281, dtype: object"
      ]
     },
     "execution_count": 10,
     "metadata": {},
     "output_type": "execute_result"
    }
   ],
   "source": [
    "df.iloc[281, :]"
   ]
  },
  {
   "cell_type": "code",
   "execution_count": 8,
   "metadata": {},
   "outputs": [
    {
     "data": {
      "text/plain": [
       "(array([[0.29740441, 0.29740441, 0.29740441, 0.29740441]]),\n",
       " array([[107,  10,  50, 566]], dtype=int64))"
      ]
     },
     "execution_count": 8,
     "metadata": {},
     "output_type": "execute_result"
    }
   ],
   "source": [
    "model1.kneighbors([df.iloc[120, 3:5]], return_distance=True)"
   ]
  },
  {
   "cell_type": "code",
   "execution_count": null,
   "metadata": {},
   "outputs": [],
   "source": []
  },
  {
   "cell_type": "code",
   "execution_count": null,
   "metadata": {},
   "outputs": [],
   "source": []
  },
  {
   "cell_type": "code",
   "execution_count": null,
   "metadata": {},
   "outputs": [],
   "source": []
  },
  {
   "cell_type": "code",
   "execution_count": null,
   "metadata": {},
   "outputs": [],
   "source": []
  }
 ],
 "metadata": {
  "kernelspec": {
   "display_name": "Python 3",
   "language": "python",
   "name": "python3"
  },
  "language_info": {
   "codemirror_mode": {
    "name": "ipython",
    "version": 3
   },
   "file_extension": ".py",
   "mimetype": "text/x-python",
   "name": "python",
   "nbconvert_exporter": "python",
   "pygments_lexer": "ipython3",
   "version": "3.8.5"
  }
 },
 "nbformat": 4,
 "nbformat_minor": 4
}
